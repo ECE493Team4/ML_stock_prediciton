{
 "cells": [
  {
   "cell_type": "markdown",
   "metadata": {},
   "source": [
    "# Multivariate Multistep Recurrent Neural Network (Long Short Term Memory)\n",
    "\n",
    "## This version of machien learning code is only for unit testing purpose.As a result, the traning process  and plotting function would be commented out\n"
   ]
  },
  {
   "cell_type": "code",
   "execution_count": 2,
   "metadata": {},
   "outputs": [
    {
     "data": {
      "text/html": [
       "        <script type=\"text/javascript\">\n",
       "        window.PlotlyConfig = {MathJaxConfig: 'local'};\n",
       "        if (window.MathJax) {MathJax.Hub.Config({SVG: {font: \"STIX-Web\"}});}\n",
       "        if (typeof require !== 'undefined') {\n",
       "        require.undef(\"plotly\");\n",
       "        requirejs.config({\n",
       "            paths: {\n",
       "                'plotly': ['https://cdn.plot.ly/plotly-latest.min']\n",
       "            }\n",
       "        });\n",
       "        require(['plotly'], function(Plotly) {\n",
       "            window._Plotly = Plotly;\n",
       "        });\n",
       "        }\n",
       "        </script>\n",
       "        "
      ]
     },
     "metadata": {},
     "output_type": "display_data"
    },
    {
     "data": {
      "text/html": [
       "        <script type=\"text/javascript\">\n",
       "        window.PlotlyConfig = {MathJaxConfig: 'local'};\n",
       "        if (window.MathJax) {MathJax.Hub.Config({SVG: {font: \"STIX-Web\"}});}\n",
       "        if (typeof require !== 'undefined') {\n",
       "        require.undef(\"plotly\");\n",
       "        requirejs.config({\n",
       "            paths: {\n",
       "                'plotly': ['https://cdn.plot.ly/plotly-latest.min']\n",
       "            }\n",
       "        });\n",
       "        require(['plotly'], function(Plotly) {\n",
       "            window._Plotly = Plotly;\n",
       "        });\n",
       "        }\n",
       "        </script>\n",
       "        "
      ]
     },
     "metadata": {},
     "output_type": "display_data"
    }
   ],
   "source": [
    "import psycopg2\n",
    "import pandas as pd\n",
    "import pandas.io.sql as sqlio\n",
    "import pickle\n",
    "from datetime import datetime,timedelta\n",
    "import shutil\n",
    "import os\n",
    "import numpy as np\n",
    "import cufflinks as cf\n",
    "cf.go_offline()\n",
    "cf.set_config_file(offline=True, world_readable=True)\n",
    "import tensorflow as tf\n",
    "import matplotlib as mpl\n",
    "import matplotlib.pyplot as plt\n",
    "pd.plotting.register_matplotlib_converters()\n",
    "\n",
    "gpus = tf.config.experimental.list_physical_devices('GPU')\n",
    "if gpus:\n",
    "    try:\n",
    "        for gpu in gpus:\n",
    "            tf.config.experimental.set_memory_growth(gpu, True)\n",
    "\n",
    "    except RuntimeError as e:\n",
    "        print(e)\n",
    "\n",
    "mpl.rcParams['figure.figsize'] = (8, 6)\n",
    "mpl.rcParams['axes.grid'] = False\n",
    "\n",
    "class postgresql_db_config:\n",
    "    NAME = 'stock_data'\n",
    "    PORT = 5432\n",
    "    HOST = '162.246.156.44'\n",
    "    USER = 'stock_data_admin'\n",
    "    PASSWORD = 'ece493_team4_stock_data'"
   ]
  },
  {
   "cell_type": "code",
   "execution_count": 3,
   "metadata": {},
   "outputs": [],
   "source": [
    "def mape(y,y_pr):\n",
    "    y,y_pr = np.array(y),np.array(y_pr)\n",
    "    return np.mean(np.abs((y-y_pr)/y))*100"
   ]
  },
  {
   "cell_type": "code",
   "execution_count": 4,
   "metadata": {},
   "outputs": [],
   "source": [
    "def multivariate_data(dataset, target, start_index, end_index, history_size,\n",
    "                      target_size, step, single_step=False):\n",
    "    data = []\n",
    "    labels = []\n",
    "\n",
    "    start_index = start_index + history_size\n",
    "    if end_index is None:\n",
    "        end_index = len(dataset) - target_size\n",
    "\n",
    "    for i in range(start_index, end_index):\n",
    "        indices = range(i-history_size, i, step)\n",
    "        data.append(dataset[indices])\n",
    "\n",
    "        if single_step:\n",
    "            labels.append(target[i+target_size])\n",
    "        else:\n",
    "            labels.append(target[i:i+target_size])\n",
    " \n",
    "    return np.array(data), np.array(labels)"
   ]
  },
  {
   "cell_type": "code",
   "execution_count": 5,
   "metadata": {},
   "outputs": [],
   "source": [
    "def get_data_from_db(stock_name):\n",
    "    postgre_db = psycopg2.connect(dbname = postgresql_db_config.NAME,\n",
    "                                    user = postgresql_db_config.USER,\n",
    "                                    password = postgresql_db_config.PASSWORD,\n",
    "                                    host = postgresql_db_config.HOST,\n",
    "                                    port = postgresql_db_config.PORT)\n",
    "\n",
    "    sql =f'''\n",
    "    select * from public.stock_data_full where stock_name = '{stock_name}' order by time_stamp asc\n",
    "    '''\n",
    "\n",
    "    dat = sqlio.read_sql_query(sql, postgre_db)\n",
    "\n",
    "\n",
    "    dat\n",
    "    dat = dat.dropna()\n",
    "    dat = dat.reset_index(drop=True)\n",
    "    return dat\n",
    "\n"
   ]
  },
  {
   "cell_type": "code",
   "execution_count": 6,
   "metadata": {},
   "outputs": [],
   "source": [
    "dat = get_data_from_db('aapl')\n",
    "dat['time_stamp'] = pd.to_datetime(dat['time_stamp'],format='%Y-%m-%d %H:%M:%S')"
   ]
  },
  {
   "cell_type": "code",
   "execution_count": 7,
   "metadata": {},
   "outputs": [],
   "source": [
    "dat = dat[['time_stamp','open','high','low','close','volume','volume_obv','trend_macd','trend_macd_signal','trend_macd_diff','momentum_rsi','volume_vpt']]"
   ]
  },
  {
   "cell_type": "code",
   "execution_count": 8,
   "metadata": {},
   "outputs": [],
   "source": [
    "features = dat[['open','volume','volume_obv','trend_macd','trend_macd_signal','trend_macd_diff','momentum_rsi','volume_vpt']]\n",
    "features.index = dat['time_stamp']\n",
    "features.head()\n",
    "features.plot(subplots=True,figsize=(15, 15))"
   ]
  },
  {
   "cell_type": "code",
   "execution_count": 9,
   "metadata": {},
   "outputs": [],
   "source": [
    "dat.corr().iplot(kind='heatmap',colorscale=\"Blues\",title=\"Feature Correlation Matrix\")"
   ]
  },
  {
   "cell_type": "code",
   "execution_count": 10,
   "metadata": {},
   "outputs": [],
   "source": [
    "def normalized(features):\n",
    "    dataset = features.values\n",
    "    data_mean = dataset.mean(axis=0)\n",
    "    data_std = dataset.std(axis=0)\n",
    "    dataset = (dataset-data_mean)/data_std\n",
    "    \n",
    "    return dataset\n",
    "dataset = normalized(features)"
   ]
  },
  {
   "cell_type": "code",
   "execution_count": 11,
   "metadata": {},
   "outputs": [],
   "source": [
    "past_history = 70\n",
    "future_target = 7\n",
    "STEP = 1\n",
    "TRAIN_SPLIT = 1400\n",
    "x_train_multi, y_train_multi = multivariate_data(dataset, dataset[:, 0], 0,\n",
    "                                                 TRAIN_SPLIT, past_history,\n",
    "                                                 future_target, STEP)\n",
    "x_val_multi, y_val_multi = multivariate_data(dataset, dataset[:, 0],\n",
    "                                             TRAIN_SPLIT, None, past_history,\n",
    "                                             future_target, STEP)"
   ]
  },
  {
   "cell_type": "code",
   "execution_count": 12,
   "metadata": {},
   "outputs": [],
   "source": [
    "print ('Single window of past history : {}'.format(x_train_multi[0].shape))\n",
    "print ('\\n Target temperature to predict : {}'.format(y_train_multi[0].shape))"
   ]
  },
  {
   "cell_type": "code",
   "execution_count": 13,
   "metadata": {},
   "outputs": [],
   "source": [
    "# This funciton is to create the input for the model \n",
    "def multi_step_plot(history, true_future, prediction,iteration):\n",
    "#   'open','volume','volume_obv','trend_macd_signal','trend_macd_diff','momentum_rsi','volume_vpt'\n",
    "    plt.figure(figsize=(12, 6))\n",
    "    num_in = create_time_steps(len(history))\n",
    "    num_out = len(true_future)\n",
    "    plt.subplot(211)\n",
    "    plt.plot(num_in, np.array(history[:, 0]), label='open')\n",
    "    plt.plot(num_in, np.array(history[:, 1]), label='volume')\n",
    "    plt.plot(num_in, np.array(history[:, 2]), label='volume_obv')\n",
    "    plt.plot(num_in, np.array(history[:, 3]), label='trend_macd')\n",
    "    plt.plot(num_in, np.array(history[:, 4]), label='trend_macd_signal')\n",
    "    plt.plot(num_in, np.array(history[:, 5]), label='trend_macd_diff')\n",
    "    plt.plot(num_in, np.array(history[:, 6]), label='momentum_rsi')\n",
    "    plt.plot(num_in, np.array(history[:, 7]), label='volume_vpt')\n",
    "    plt.plot(np.arange(num_out)/STEP, np.array(true_future), 'b',\n",
    "           label='True Future')\n",
    "    if prediction.any():\n",
    "        plt.plot(np.arange(num_out)/STEP, np.array(prediction), 'r',\n",
    "        label='Predicted Future')\n",
    "    plt.legend(loc='upper left')\n",
    "    plt.title(\"Iterarion: {}\".format(iteration))\n",
    "    plt.show()\n",
    "    \n",
    "def create_time_steps(length):\n",
    "    time_steps = []\n",
    "    for i in range(-length, 0, 1):\n",
    "        time_steps.append(i)\n",
    "    return time_steps"
   ]
  },
  {
   "cell_type": "code",
   "execution_count": 14,
   "metadata": {},
   "outputs": [],
   "source": [
    "BATCH_SIZE = 30\n",
    "BUFFER_SIZE = x_train_multi[0].shape[0]\n",
    "\n",
    "train_data_multi = tf.data.Dataset.from_tensor_slices((x_train_multi, y_train_multi))\n",
    "train_data_multi = train_data_multi.cache().shuffle(BUFFER_SIZE).batch(BATCH_SIZE).repeat()\n",
    "\n",
    "val_data_multi = tf.data.Dataset.from_tensor_slices((x_val_multi, y_val_multi))\n",
    "val_data_multi = val_data_multi.batch(BATCH_SIZE).repeat()"
   ]
  },
  {
   "cell_type": "code",
   "execution_count": 15,
   "metadata": {},
   "outputs": [],
   "source": [
    "# print(\"The data we need to feed in to the model\")\n",
    "i = 0\n",
    "for x, y in train_data_multi.take(2):\n",
    "    multi_step_plot(x[0], y[0], np.array([0]),i)\n",
    "    i = i + 1;"
   ]
  },
  {
   "cell_type": "code",
   "execution_count": 16,
   "metadata": {},
   "outputs": [],
   "source": [
    "\n",
    "multi_step_model = tf.keras.models.Sequential()\n",
    "multi_step_model.add(tf.keras.layers.LSTM(64,\n",
    "                                          return_sequences=True,\n",
    "                                          input_shape=x_train_multi.shape[-2:]))\n",
    "multi_step_model.add(tf.keras.layers.LSTM(32, activation='relu'))\n",
    "multi_step_model.add(tf.keras.layers.Dense(7))\n",
    "\n",
    "multi_step_model.compile(optimizer=tf.keras.optimizers.Adam(learning_rate=0.0005), loss='mae')"
   ]
  },
  {
   "cell_type": "code",
   "execution_count": 17,
   "metadata": {},
   "outputs": [],
   "source": [
    "This jupyter note book is for testing purpose which didnot include the trainign \n",
    "multi_step_history = multi_step_model.fit(train_data_multi, epochs=20,\n",
    "                                          steps_per_epoch=700,\n",
    "                                          validation_data=val_data_multi,\n",
    "                                          validation_steps=7)"
   ]
  },
  {
   "cell_type": "code",
   "execution_count": 18,
   "metadata": {},
   "outputs": [],
   "source": [
    "def multi_step_plot_test(history, true_future, prediction,iteration):\n",
    "        \n",
    "    plt.figure(figsize=(12, 6))\n",
    "    num_in = create_time_steps(len(history))\n",
    "    num_out = len(true_future)\n",
    "    plt.subplot(211)\n",
    "    plt.plot(num_in, np.array(history[:, 0]), label='open')\n",
    "    \n",
    "    \n",
    "    plt.plot(np.arange(num_out)/STEP, np.array(true_future), 'b',\n",
    "           label='True Future')\n",
    "    if prediction.any():\n",
    "        plt.plot(np.arange(num_out)/STEP, np.array(prediction), 'r',\n",
    "        label='Predicted Future')\n",
    "    plt.legend(loc='upper left')\n",
    "    plt.title(\"Iterarion: {}\".format(iteration))\n",
    "#     plt.savefig('pic2/pic{}.png'.format(iteration))\n",
    "    plt.show()"
   ]
  },
  {
   "cell_type": "code",
   "execution_count": 164,
   "metadata": {},
   "outputs": [],
   "source": [
    "# save the model \n",
    "# multi_step_model.save('saved_model/dis.h5')"
   ]
  }
 ],
 "metadata": {
  "kernelspec": {
   "display_name": "Python 3",
   "language": "python",
   "name": "python3"
  },
  "language_info": {
   "codemirror_mode": {
    "name": "ipython",
    "version": 3
   },
   "file_extension": ".py",
   "mimetype": "text/x-python",
   "name": "python",
   "nbconvert_exporter": "python",
   "pygments_lexer": "ipython3",
   "version": "3.7.4"
  }
 },
 "nbformat": 4,
 "nbformat_minor": 4
}
